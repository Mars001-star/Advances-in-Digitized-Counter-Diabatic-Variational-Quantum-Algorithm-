{
 "cells": [
  {
   "cell_type": "code",
   "execution_count": 3,
   "id": "a2dcba56-b655-4fb3-9541-cdd91998ab85",
   "metadata": {},
   "outputs": [],
   "source": [
    "import os\n",
    "import numpy as np\n",
    "import matplotlib.pyplot as plt\n",
    "from tqdm import tqdm\n",
    "from sympy import Symbol, symbols, solve, diff\n",
    "np.set_printoptions(threshold=np.inf)\n",
    "\n",
    "import openfermion as of\n",
    "from openfermion.linalg import get_sparse_operator, get_ground_state\n",
    "from openfermion.transforms import get_quadratic_hamiltonian\n",
    "from openfermion.circuits import gaussian_state_preparation_circuit, jw_get_gaussian_state, prepare_gaussian_state\n",
    "      \n",
    "from mindquantum import *\n",
    "from mindquantum.core.operators import QubitOperator\n",
    "from mindquantum.core.circuit import decompose_single_term_time_evolution\n"
   ]
  },
  {
   "cell_type": "code",
   "execution_count": 4,
   "id": "c20710b8-7d75-4e73-804c-be3c7c195aad",
   "metadata": {},
   "outputs": [],
   "source": [
    "def inital_circuits(occupied, circuit_description):\n",
    "    \n",
    "    circuit = Circuit()\n",
    "    for i in range(occupied):\n",
    "        circuit += X.on(i)\n",
    "\n",
    "    circuit.barrier()\n",
    "\n",
    "    for i in circuit_description:\n",
    "        if len(i) == 1:\n",
    "            q0 = i[0][0]\n",
    "            q1 = i[0][1]\n",
    "            theta = i[0][2]\n",
    "            circuit += givens_iswap([q0, q1], theta)\n",
    "            circuit.barrier()\n",
    "        if len(i) != 1:\n",
    "            for j in i:\n",
    "                q0 = j[0]\n",
    "                q1 = j[1]\n",
    "                theta = j[2]\n",
    "                circuit += givens_iswap([q0, q1], theta)\n",
    "                circuit.barrier()\n",
    "                \n",
    "    return circuit\n",
    "\n",
    "def lamt(t, T):\n",
    "\n",
    "    return np.sin((np.pi/2)*np.sin(np.pi*t/(2*T))**2)**2\n",
    "\n",
    "def deri_lamt2(t, T):\n",
    "    \n",
    "    w = np.pi/(2*T)\n",
    "\n",
    "    return 2*w**2*np.sin(w*t)*np.cos(w*t)\n",
    "\n",
    "def deri_lamt(t, T):\n",
    "    \n",
    "    return 2*np.sin(np.pi/2*(np.sin(np.pi*t/(2*T))**2))*np.cos(np.pi/2*(np.sin(np.pi*t/(2*T))**2))*\\\n",
    "                    (np.pi/2)*2*np.sin(np.pi*t/(2*T))*np.cos(np.pi*t/(2*T))*np.pi/(2*T)\n",
    "\n",
    "\n",
    "def generate_Hamitonian():\n",
    "    \n",
    "    # # generate fermi hubbard model's hamitonian using openfemi pakage\n",
    "    H_hopping = of.fermi_hubbard(x_dimension=6, y_dimension=1,tunneling= 1, coulomb=0, chemical_potential=0.0,\\\n",
    "                                 magnetic_field=0.0,periodic=True)\n",
    "    \n",
    "    H_coulomb = of.fermi_hubbard(x_dimension=6,y_dimension=1, tunneling=0, coulomb=1.5, chemical_potential=0.0,\\\n",
    "                                 magnetic_field=0.0,periodic=True)\n",
    "    \n",
    "    from openfermion.ops import FermionOperator\n",
    "\n",
    "\n",
    "    hubbard_model = H_hopping + H_coulomb\n",
    "    \n",
    "    # Jordan wigner Transform\n",
    "    H_hopping_qubit = of.jordan_wigner(H_hopping)\n",
    "    H_coulomb_qubit = of.jordan_wigner(H_coulomb)\n",
    "    \n",
    "    # Transform to Mindquantum\n",
    "    H_hopping_qubit = QubitOperator.from_openfermion(H_hopping_qubit)\n",
    "    H_coulomb_qubit = QubitOperator.from_openfermion(H_coulomb_qubit)\n",
    "    H = H_hopping_qubit + H_coulomb_qubit\n",
    "    \n",
    "    # Transform the hamitonian to Mindquantum \n",
    "    qubit_Hamitonian = Hamiltonian(H)  \n",
    "\n",
    "    return H_hopping_qubit, H_coulomb_qubit, H_hopping, hubbard_model, qubit_Hamitonian\n",
    "\n",
    "\n",
    "def Hooping_Hamitonian_simulation(theta):\n",
    "    \n",
    "    circuit = Circuit()\n",
    "\n",
    "    for qubit_operator in H_hopping_qubit:\n",
    "\n",
    "        circuit += decompose_single_term_time_evolution(qubit_operator, {'a': -0.5*theta})\n",
    "        \n",
    "    return circuit\n",
    "\n",
    "def Fermi_hubbard_Hamitonian_simulatoin(theta):\n",
    "    \n",
    "    circuit = Circuit()\n",
    "        \n",
    "    for i, qubit_operator in enumerate(H_coulomb_qubit):\n",
    "\n",
    "        if i!= 0:\n",
    "            for j in qubit_operator.split():\n",
    "                \n",
    "                    for key, term in j[1].terms.items():\n",
    "                        \n",
    "                        if len(key) == 1:\n",
    "                            circuit += decompose_single_term_time_evolution(qubit_operator, {'c':-0.375*theta})\n",
    "                        else:\n",
    "                            circuit += decompose_single_term_time_evolution(qubit_operator, {'d':0.375*theta})\n",
    "                            \n",
    "    return circuit\n",
    "\n",
    "def CD_circuits(CD_operator, theta):\n",
    "    \n",
    "    coefficent_record = []\n",
    "    for cd in CD_operator.split():\n",
    "        # CD_term.append(cd[1])\n",
    "        coefficent_record.append(cd[0].const)\n",
    "    \n",
    "    circuit = Circuit()\n",
    "    \n",
    "    for index, qubit_operator in enumerate(CD_operator):\n",
    "\n",
    "        circuit += decompose_single_term_time_evolution(qubit_operator, {'d': coefficent_record[index].imag*theta})\n",
    "                            \n",
    "    return circuit"
   ]
  },
  {
   "cell_type": "code",
   "execution_count": 5,
   "id": "ccb33915-e725-46d0-8f57-856bfa30ce2e",
   "metadata": {},
   "outputs": [],
   "source": [
    "from collections import OrderedDict as ordict\n",
    "\n",
    "def CD_operator_generate(CD, interaction_term):\n",
    "    \n",
    "    CD_term = []\n",
    "    for cd in CD.split():\n",
    "        for key, term in cd.terms():\n",
    "            if len(key) <= interaction_term:\n",
    "                print((cd))\n",
    "                CD_term.append(cd[1])\n",
    "    k = 0\n",
    "    out = ordict()\n",
    "    for cd in CD_term:\n",
    "        for key, term in cd.terms.items():\n",
    "            if len(key) <= interaction_term:\n",
    "                #print(len(key))\n",
    "                if key not in out:\n",
    "                    out[key] = ordict({f\"p{k}\": 1})\n",
    "                    k += 1\n",
    "    return out, CD_term"
   ]
  },
  {
   "cell_type": "code",
   "execution_count": 6,
   "id": "c7d4ef55-7f9e-4ce7-9700-ef6a05dbf96d",
   "metadata": {},
   "outputs": [
    {
     "name": "stdout",
     "output_type": "stream",
     "text": [
      "the ground energy of hopping Hamitonian using the occuped orbitals:\n",
      "---  -5.978815789177411\n",
      "the ground energy of hopping Hamitonian using the direct diagnal matrix: \n",
      "---  -8.0\n",
      "Overlap is between the two state: \n",
      "--- (-0.7770239885317585+0.5532076860034427j)\n",
      "The exact ground state of Fermi-Hubbard model is:\n",
      "---  -5.978815789177411\n"
     ]
    }
   ],
   "source": [
    "# generate the hamitonian\n",
    "\n",
    "global H_hopping_qubit\n",
    "global H_coulomb_qubit\n",
    "\n",
    "H_hopping_qubit, H_coulomb_qubit, H_hopping, hubbard_model, qubit_Hamitonian = generate_Hamitonian()\n",
    " \n",
    "# check the occupied orbitals for the ground state\n",
    "occupied_orbitals = [0, 1, 2, 3, 4, 5]\n",
    "\n",
    "# the hopping hamitonian's ground state \n",
    "quadratic_hamiltonian = get_quadratic_hamiltonian(H_hopping)\n",
    "circuit_description, start_orbitals = gaussian_state_preparation_circuit(quadratic_hamiltonian, \n",
    "                                                                         occupied_orbitals, \n",
    "                                                                         spin_sector=None)\n",
    "\n",
    "# the ground energy and ground state of the Hopping hamitonian,\n",
    "ground_energy, ground_state = jw_get_gaussian_state(quadratic_hamiltonian, occupied_orbitals)\n",
    "ground_energy2, ground_state2 = jw_get_gaussian_state(quadratic_hamiltonian)\n",
    "\n",
    "# the ground energy and ground state of the Fermi Hubbard model\n",
    "sparse_operator = get_sparse_operator(hubbard_model)\n",
    "ground_energy, ground_state = get_ground_state(sparse_operator)\n",
    "\n",
    "\n",
    "print(\"the ground energy of hopping Hamitonian using the occuped orbitals:\\n--- \", ground_energy)\n",
    "print(\"the ground energy of hopping Hamitonian using the direct diagnal matrix: \\n--- \", ground_energy2)\n",
    "print(\"Overlap is between the two state: \\n---\", np.dot(ground_state2.T.conjugate(), ground_state)**2)\n",
    "print(\"The exact ground state of Fermi-Hubbard model is:\\n--- \", ground_energy)"
   ]
  },
  {
   "cell_type": "markdown",
   "id": "21821ca3-8cdd-4d23-9046-fc17dba1a8d6",
   "metadata": {},
   "source": [
    "## Counter diabatic evolution"
   ]
  },
  {
   "cell_type": "code",
   "execution_count": 7,
   "id": "82eb377c-0ee2-4fe6-b99b-ce4c1753efb9",
   "metadata": {},
   "outputs": [],
   "source": [
    "global CD_operator\n",
    "CD_operator = commutator(H_hopping_qubit, H_coulomb_qubit)\n",
    "\n",
    "H_T = H_hopping_qubit\n",
    "H_P = H_hopping_qubit + H_coulomb_qubit\n",
    "\n",
    "A1 = commutator(H_hopping_qubit, H_coulomb_qubit)\n",
    "\n",
    "commut1 = commutator(H_T, A1).matrix().toarray()\n",
    "commut2 = commutator(H_P, A1).matrix().toarray()\n",
    "H_hopping_qubit_matrix = H_hopping_qubit.matrix().toarray()"
   ]
  },
  {
   "cell_type": "code",
   "execution_count": 8,
   "id": "dd9f042e-390e-4dab-86c3-a25353479f4f",
   "metadata": {},
   "outputs": [
    {
     "name": "stderr",
     "output_type": "stream",
     "text": [
      "100%|██████████| 4096/4096 [23:08<00:00,  2.95it/s]\n",
      "100%|██████████| 4096/4096 [00:22<00:00, 183.76it/s]\n"
     ]
    }
   ],
   "source": [
    "coefficent, L = symbols('coefficent, lambdas', complex=True)\n",
    "\n",
    "qubit = 12\n",
    "fp0 = np.zeros((2**qubit, 2**qubit), dtype=object)\n",
    "from tqdm import tqdm\n",
    "for i in tqdm(range(2**qubit)):\n",
    "    for j in range(2**qubit):\n",
    "        fp0[i,j] = H_hopping_qubit_matrix[i,j] + ((1-L)*commut1[i,j] + L*commut2[i,j]) * coefficent\n",
    "        \n",
    "S_l = []\n",
    "fp0_1 = fp0.copy()\n",
    "\n",
    "for i in tqdm(range(2**qubit)):\n",
    "    y = np.dot(fp0_1[i,:], fp0_1[:, i])\n",
    "    S_l.append(y)\n",
    "    \n",
    "S_l = sum(S_l)\n",
    "\n",
    "func = diff(S_l, coefficent)\n",
    "\n",
    "print(func)\n",
    "slv = solve(func, coefficent)[0] \n",
    "coefficent_expression = repr(slv)"
   ]
  },
  {
   "cell_type": "code",
   "execution_count": 11,
   "id": "92dfb763-b3d5-4023-86ca-0087b6dfc3a3",
   "metadata": {},
   "outputs": [
    {
     "name": "stderr",
     "output_type": "stream",
     "text": [
      "100%|██████████| 50/50 [00:15<00:00,  3.15it/s]\n"
     ]
    }
   ],
   "source": [
    "Delta_t = 0.02\n",
    "Expectation_adibatic = []\n",
    "\n",
    "k = 0\n",
    "T = 1\n",
    "n = int(T/Delta_t)\n",
    "t = np.linspace(0, T, n)\n",
    "circ = Circuit()\n",
    "\n",
    "for i in tqdm(range(0, int(n))):\n",
    "\n",
    "    theta_1 = (1-lamt(i*Delta_t, T))*Delta_t\n",
    "    theta_2 = (lamt(i*Delta_t, T))*Delta_t\n",
    "    lambdas = lamt(i*Delta_t, T)\n",
    "\n",
    "    circ += Hooping_Hamitonian_simulation(Delta_t)\n",
    "    circ += Fermi_hubbard_Hamitonian_simulatoin(theta_2)\n",
    "    sim = Simulator('mqvector', circ.n_qubits)\n",
    "    sim.set_qs(ground_state2)\n",
    "    sim.apply_circuit(circ, pr={\"a\":1, \"b\":1, \"c\":1, \"d\":1})\n",
    "    result = sim.get_qs()\n",
    "    expectation = sim.get_expectation(qubit_Hamitonian)\n",
    "    Expectation_adibatic.append(expectation)\n",
    "    k += 1"
   ]
  },
  {
   "cell_type": "code",
   "execution_count": 13,
   "id": "fbfdd7e8-236b-45bf-bf03-c132c4abf994",
   "metadata": {},
   "outputs": [
    {
     "name": "stderr",
     "output_type": "stream",
     "text": [
      "100%|██████████| 50/50 [00:41<00:00,  1.21it/s]\n"
     ]
    }
   ],
   "source": [
    "Delta_t = 0.02\n",
    "Expectation_record3 = []\n",
    "\n",
    "k = 0\n",
    "\n",
    "T = 1\n",
    "n = int(T/Delta_t)\n",
    "circ = Circuit()\n",
    "\n",
    "for i in tqdm(range(0, int(n))):\n",
    "\n",
    "    theta_1 = (1-lamt(i*Delta_t, T))*Delta_t\n",
    "    theta_2 = (lamt(i*Delta_t, T))*Delta_t\n",
    "    lambdas = lamt(i*Delta_t, T)\n",
    "    derivative_lambdas = deri_lamt(i*Delta_t, T)\n",
    "    theta_3 = eval(coefficent_expression)*Delta_t*derivative_lambdas*1.j\n",
    "\n",
    "    circ += Hooping_Hamitonian_simulation(Delta_t)\n",
    "    circ += Fermi_hubbard_Hamitonian_simulatoin(theta_2)\n",
    "    circ += CD_circuits(CD_operator,alphas_value[i] )\n",
    "    # circ += CD_circuits(theta_3.imag)\n",
    "    \n",
    "    # print(\"------------------\")\n",
    "    sim = Simulator('mqvector', circ.n_qubits)\n",
    "    sim.set_qs(ground_state2)\n",
    "    sim.apply_circuit(circ, pr={\"a\":1, \"b\":1, \"c\":1, \"d\":1})\n",
    "    result = sim.get_qs()\n",
    "    expectation = sim.get_expectation(qubit_Hamitonian)\n",
    "    fidelity = abs(np.dot(ground_state.T.conjugate(), result))**2\n",
    "\n",
    "    #print(fidelity)\n",
    "    Expectation_record3.append(expectation)\n",
    "    k += 1"
   ]
  },
  {
   "cell_type": "code",
   "execution_count": 18,
   "id": "f2313ebb-be43-42de-91a2-d4a86f079839",
   "metadata": {},
   "outputs": [
    {
     "data": {
      "text/plain": [
       "<matplotlib.legend.Legend at 0x128a7cdc0>"
      ]
     },
     "execution_count": 18,
     "metadata": {},
     "output_type": "execute_result"
    },
    {
     "data": {
      "image/png": "[encoded data removed]",
      "text/plain": [
       "<Figure size 640x480 with 1 Axes>"
      ]
     },
     "metadata": {},
     "output_type": "display_data"
    }
   ],
   "source": [
    "plt.plot(t,Expectation_record3, label='With CD')\n",
    "plt.plot(t,Expectation_adibatic, label='Without CD')\n",
    "plt.axhline(y=ground_energy, color=\"black\", linestyle=\"--\", label=\"True energy\")\n",
    "plt.legend()"
   ]
  },
  {
   "cell_type": "code",
   "execution_count": null,
   "id": "d3624a37-6f30-40d4-9404-659d96ce4da9",
   "metadata": {},
   "outputs": [],
   "source": []
  }
 ],
 "metadata": {
  "kernelspec": {
   "display_name": "Python 3 (ipykernel)",
   "language": "python",
   "name": "python3"
  },
  "language_info": {
   "codemirror_mode": {
    "name": "ipython",
    "version": 3
   },
   "file_extension": ".py",
   "mimetype": "text/x-python",
   "name": "python",
   "nbconvert_exporter": "python",
   "pygments_lexer": "ipython3",
   "version": "3.9.19"
  }
 },
 "nbformat": 4,
 "nbformat_minor": 5
}
